{
 "cells": [
  {
   "cell_type": "code",
   "execution_count": 1,
   "metadata": {},
   "outputs": [
    {
     "name": "stdout",
     "output_type": "stream",
     "text": [
      "Enter Fisrt no:10\n",
      "Enter second no:20\n",
      "b is grater than a\n"
     ]
    }
   ],
   "source": [
    "#Python program to check greater no. among three numbers.\n",
    "a = input(\"Enter Fisrt no:\")\n",
    "b = input(\"Enter second no:\")\n",
    "if(a>b):\n",
    "  print(\"a is a greater than b\")\n",
    "elif(b>a):\n",
    "  print(\"b is grater than a\")\n",
    "else:\n",
    "  print(\"both equal\")\n"
   ]
  },
  {
   "cell_type": "code",
   "execution_count": 3,
   "metadata": {},
   "outputs": [
    {
     "name": "stdout",
     "output_type": "stream",
     "text": [
      "Enter Fisrt no:10\n",
      "Enter Second no:20\n",
      "Before swapping the numbers are a & b: 10 20\n",
      "after swapping the numbers a and b are: 20 10\n"
     ]
    }
   ],
   "source": [
    "#Python program to swap numbers.\n",
    "a = input(\"Enter Fisrt no:\")\n",
    "b = input(\"Enter Second no:\")\n",
    "print(\"Before swapping the numbers are a & b:\",a,b)\n",
    "a,b=b,a\n",
    "print(\"after swapping the numbers a and b are:\",a,b)"
   ]
  },
  {
   "cell_type": "code",
   "execution_count": 5,
   "metadata": {},
   "outputs": [
    {
     "name": "stdout",
     "output_type": "stream",
     "text": [
      "Enter Fisrt no:20\n",
      "Enter Second no:10\n",
      "Addition of a & b is:  30\n",
      "substraction of a & b is:  10\n",
      "multiplication of a & b is:  200\n",
      "division of a & b is:  2.0\n"
     ]
    }
   ],
   "source": [
    "#Python programs for mathmatical operation\n",
    "a = int(input(\"Enter Fisrt no:\"))\n",
    "b = int(input(\"Enter Second no:\"))\n",
    "print(\"Addition of a & b is: \",a+b)\n",
    "print(\"substraction of a & b is: \",a-b)\n",
    "print(\"multiplication of a & b is: \",a*b)\n",
    "print(\"division of a & b is: \",a/b)"
   ]
  },
  {
   "cell_type": "code",
   "execution_count": 16,
   "metadata": {},
   "outputs": [
    {
     "name": "stdout",
     "output_type": "stream",
     "text": [
      "AAAAAAAA\n",
      "A      A\n",
      "A      A\n",
      "A      A\n",
      "AAAAAAAA\n"
     ]
    }
   ],
   "source": [
    "#Python program for drawing square.\n",
    "print(\"AAAAAAAA\\nA      A\\nA      A\\nA      A\\nAAAAAAAA\")"
   ]
  },
  {
   "cell_type": "code",
   "execution_count": 19,
   "metadata": {},
   "outputs": [
    {
     "name": "stdout",
     "output_type": "stream",
     "text": [
      "Befor sorting: ['A', 'B', 'Z', 'S', 'G', 'Q', 'W', 'I']\n",
      "After sorting Alphabets ['A', 'B', 'G', 'I', 'Q', 'S', 'W', 'Z']\n"
     ]
    }
   ],
   "source": [
    "#Python Program for sorting Alphabets\n",
    "Alpha =['A','B','Z','S','G','Q','W','I']\n",
    "print(\"Befor sorting:\",Alpha)\n",
    "Alpha.sort()\n",
    "print(\"After sorting Alphabets\",Alpha)"
   ]
  },
  {
   "cell_type": "code",
   "execution_count": null,
   "metadata": {},
   "outputs": [],
   "source": []
  }
 ],
 "metadata": {
  "kernelspec": {
   "display_name": "Python 3",
   "language": "python",
   "name": "python3"
  },
  "language_info": {
   "codemirror_mode": {
    "name": "ipython",
    "version": 3
   },
   "file_extension": ".py",
   "mimetype": "text/x-python",
   "name": "python",
   "nbconvert_exporter": "python",
   "pygments_lexer": "ipython3",
   "version": "3.8.5"
  }
 },
 "nbformat": 4,
 "nbformat_minor": 4
}
